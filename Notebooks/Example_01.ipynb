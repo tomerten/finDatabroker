{
 "cells": [
  {
   "cell_type": "code",
   "execution_count": 10,
   "metadata": {},
   "outputs": [],
   "source": [
    "from pymongo import MongoClient, ASCENDING\n",
    "from FinDataBroker.DataBrokerMongoDb import DataBrokerMongoDb"
   ]
  },
  {
   "cell_type": "markdown",
   "metadata": {},
   "source": [
    "# MongoDB client"
   ]
  },
  {
   "cell_type": "code",
   "execution_count": 11,
   "metadata": {},
   "outputs": [
    {
     "data": {
      "text/plain": [
       "['ETF',\n",
       " 'FinData',\n",
       " 'FinancialData',\n",
       " 'MorningStar',\n",
       " 'actions',\n",
       " 'admin',\n",
       " 'config',\n",
       " 'local',\n",
       " 'main',\n",
       " 'secfilings']"
      ]
     },
     "execution_count": 11,
     "metadata": {},
     "output_type": "execute_result"
    }
   ],
   "source": [
    "client = MongoClient('localhost:27017')\n",
    "client.list_database_names()"
   ]
  },
  {
   "cell_type": "markdown",
   "metadata": {},
   "source": [
    "# Databroker instance"
   ]
  },
  {
   "cell_type": "code",
   "execution_count": 12,
   "metadata": {},
   "outputs": [],
   "source": [
    "dbm = DataBrokerMongoDb(client)"
   ]
  },
  {
   "cell_type": "code",
   "execution_count": 13,
   "metadata": {},
   "outputs": [
    {
     "name": "stdout",
     "output_type": "stream",
     "text": [
      "['matching_yahoo_ms_combined_v1']\n",
      "{'avgObjSize': 201.90499270072993,\n",
      " 'collections': 1,\n",
      " 'dataSize': 6915246.0,\n",
      " 'db': 'main',\n",
      " 'fsTotalSize': 500068036608.0,\n",
      " 'fsUsedSize': 413482291200.0,\n",
      " 'indexSize': 778240.0,\n",
      " 'indexes': 2,\n",
      " 'numExtents': 0,\n",
      " 'objects': 34250,\n",
      " 'ok': 1.0,\n",
      " 'storageSize': 3088384.0,\n",
      " 'views': 0}\n"
     ]
    }
   ],
   "source": [
    "dbm.get_stats('main')"
   ]
  },
  {
   "cell_type": "code",
   "execution_count": 14,
   "metadata": {},
   "outputs": [
    {
     "data": {
      "text/plain": [
       "58"
      ]
     },
     "execution_count": 14,
     "metadata": {},
     "output_type": "execute_result"
    }
   ],
   "source": [
    "dbm.get_number_of_documents('MorningStar','Exchanges')"
   ]
  },
  {
   "cell_type": "markdown",
   "metadata": {},
   "source": [
    "# Example"
   ]
  },
  {
   "cell_type": "code",
   "execution_count": 17,
   "metadata": {},
   "outputs": [],
   "source": [
    "db = \"testdb\"\n",
    "col = \"testcol\"\n",
    "objs = [{\"name\": \"boe\", \"year\": 2019}]\n",
    "index = [(\"name\", ASCENDING), (\"year\", ASCENDING)]\n",
    "\n",
    "dbm.save(objs, db, col, index, unique=True)\n",
    "assert dbm.get_number_of_documents(db, col) == 1\n",
    "\n",
    "objs = [{\"name\": \"boe\", \"year\": 2019}]\n",
    "data = dbm.load(db, col, {\"year\": 2019})\n",
    "assert objs == data"
   ]
  },
  {
   "cell_type": "code",
   "execution_count": 18,
   "metadata": {},
   "outputs": [
    {
     "data": {
      "text/plain": [
       "[{'name': 'boe', 'year': 2019}]"
      ]
     },
     "execution_count": 18,
     "metadata": {},
     "output_type": "execute_result"
    }
   ],
   "source": [
    "dbm.load(db, col, {\"year\": 2019})"
   ]
  },
  {
   "cell_type": "markdown",
   "metadata": {},
   "source": [
    "# Cleanup and check"
   ]
  },
  {
   "cell_type": "code",
   "execution_count": 19,
   "metadata": {},
   "outputs": [],
   "source": [
    "client.drop_database(db)"
   ]
  },
  {
   "cell_type": "code",
   "execution_count": 20,
   "metadata": {},
   "outputs": [
    {
     "data": {
      "text/plain": [
       "['ETF',\n",
       " 'FinData',\n",
       " 'FinancialData',\n",
       " 'MorningStar',\n",
       " 'actions',\n",
       " 'admin',\n",
       " 'config',\n",
       " 'local',\n",
       " 'main',\n",
       " 'secfilings']"
      ]
     },
     "execution_count": 20,
     "metadata": {},
     "output_type": "execute_result"
    }
   ],
   "source": [
    "client.list_database_names()"
   ]
  }
 ],
 "metadata": {
  "kernelspec": {
   "display_name": "Python 3",
   "language": "python",
   "name": "python3"
  },
  "language_info": {
   "codemirror_mode": {
    "name": "ipython",
    "version": 3
   },
   "file_extension": ".py",
   "mimetype": "text/x-python",
   "name": "python",
   "nbconvert_exporter": "python",
   "pygments_lexer": "ipython3",
   "version": "3.7.6"
  }
 },
 "nbformat": 4,
 "nbformat_minor": 4
}
